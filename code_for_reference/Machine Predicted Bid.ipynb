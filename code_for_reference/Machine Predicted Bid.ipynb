{
 "cells": [
  {
   "cell_type": "code",
   "execution_count": 1,
   "id": "675ccab3",
   "metadata": {},
   "outputs": [],
   "source": [
    "import pandas as pd\n",
    "import numpy as np\n",
    "import matplotlib.pyplot as plt"
   ]
  },
  {
   "cell_type": "code",
   "execution_count": 2,
   "id": "f79a4045",
   "metadata": {},
   "outputs": [],
   "source": [
    "df = pd.read_csv('updated_dataset.csv')"
   ]
  },
  {
   "cell_type": "code",
   "execution_count": 3,
   "id": "f990256a",
   "metadata": {},
   "outputs": [],
   "source": [
    "param = df[['Time_taken(min)',\n",
    "       'Number of calls', 'Politeness', 'Freshness ', 'Temperature',\n",
    "       'Maximum wait time']].to_numpy()"
   ]
  },
  {
   "cell_type": "code",
   "execution_count": 4,
   "id": "f086497f",
   "metadata": {},
   "outputs": [
    {
     "data": {
      "text/plain": [
       "(45593, 1)"
      ]
     },
     "execution_count": 4,
     "metadata": {},
     "output_type": "execute_result"
    }
   ],
   "source": [
    "# update - updates which are done in ratings on a scale on 1000. Will be scaled down to 1 eventually\n",
    "update = np.empty((45593, 1), dtype = float)\n",
    "for i in range(0, len(param)):\n",
    "    update[i] = 10 * (param[i][5] - param[i][0]) + 5 * param[i][2] + 7 * param[i][3] + param[i][4] * 6 + 4 * param[i][1]\n",
    "    \n",
    "update.shape"
   ]
  },
  {
   "cell_type": "code",
   "execution_count": 5,
   "id": "8f5da942",
   "metadata": {},
   "outputs": [],
   "source": [
    "# Normalizing Customer Ratings\n",
    "# Using Min-Max Normalization\n",
    "\n",
    "normal_update = np.empty((45593, 1), dtype = float)\n",
    "m = max(update)\n",
    "n = min(update)\n",
    "for i in range(0, len(param)):\n",
    "    normal_update[i] = (m - update[i]) / (m - n)\n",
    "    normal_update[i] = normal_update[i] * 5\n",
    "    \n",
    "# print(normal_update)\n",
    "# print(max(normal_update))\n",
    "# print(min(normal_update))"
   ]
  },
  {
   "cell_type": "code",
   "execution_count": 6,
   "id": "93d29466",
   "metadata": {},
   "outputs": [],
   "source": [
    "# Created in replacement of the Deliver_person_ID\n",
    "id = np.empty((45593, 1), dtype = int)\n",
    "for i in range(0, len(id)):\n",
    "    id[i] = i + 1"
   ]
  },
  {
   "cell_type": "code",
   "execution_count": 7,
   "id": "a9f1a95e",
   "metadata": {},
   "outputs": [],
   "source": [
    "rat = df['Delivery_person_Ratings'].to_numpy()\n",
    "rat = rat.astype(np.float64)\n",
    "# print(rat.dtype)"
   ]
  },
  {
   "cell_type": "code",
   "execution_count": 8,
   "id": "b0a138ff",
   "metadata": {},
   "outputs": [],
   "source": [
    "df['normal_update'] = normal_update"
   ]
  },
  {
   "cell_type": "code",
   "execution_count": 14,
   "id": "6d186ef7",
   "metadata": {},
   "outputs": [],
   "source": [
    "# Finding p factor\n",
    "p = df['Weight_1'] * df['Order_1'] + df['Weight_2'] * df['Order_2'] + df['Weight_3'] * df['Order_3'] + df['WeightA_1'] * df['Active_1'] + df['WeightA_2'] * df['Active_2'] + df['WeightA_3'] * df['Active_3']"
   ]
  },
  {
   "cell_type": "code",
   "execution_count": 15,
   "id": "ea2607ac",
   "metadata": {},
   "outputs": [],
   "source": [
    "# Finding factor a\n",
    "\n",
    "a = df['order_history_weight'] * p + df['rating_weight'] * df['normal_update']"
   ]
  },
  {
   "cell_type": "code",
   "execution_count": 16,
   "id": "95e405fc",
   "metadata": {},
   "outputs": [
    {
     "name": "stdout",
     "output_type": "stream",
     "text": [
      "26619.871570851163\n",
      "2.170788613\n"
     ]
    }
   ],
   "source": [
    "print(max(a))\n",
    "print(min(a))"
   ]
  },
  {
   "cell_type": "code",
   "execution_count": 51,
   "id": "2e0ed821",
   "metadata": {},
   "outputs": [],
   "source": [
    "for i in range(0, len(param)):\n",
    "    update[i] = update[i] + (a[i] / 100000)\n",
    "    \n",
    "m = max(update)\n",
    "n = min(update)\n",
    "for i in range(0, len(param)):\n",
    "    normal_update[i] = (m - update[i]) / (m - n)\n",
    "    normal_update[i] = normal_update[i] * 5\n",
    "    \n",
    "df['normal_update'] = normal_update\n"
   ]
  },
  {
   "cell_type": "code",
   "execution_count": 83,
   "id": "0831e729",
   "metadata": {},
   "outputs": [],
   "source": [
    "# Updated Ratings of the rider\n",
    "updated_ratings = np.empty((45593, 1), dtype = float)\n",
    "for i in range(0, len(update)):\n",
    "    updated_ratings[i] = rat[i] + (normal_update[i] / 10)\n",
    "    if updated_ratings[i] > 5:\n",
    "        updated_ratings[i] = 5\n",
    "df['updated_ratings'] = updated_ratings"
   ]
  },
  {
   "cell_type": "code",
   "execution_count": 84,
   "id": "07cd4de8",
   "metadata": {},
   "outputs": [],
   "source": [
    "import random"
   ]
  },
  {
   "cell_type": "code",
   "execution_count": 99,
   "id": "ce71fd73",
   "metadata": {},
   "outputs": [],
   "source": [
    "sample_size = 15\n",
    "# Fix the indexes"
   ]
  },
  {
   "cell_type": "code",
   "execution_count": 102,
   "id": "4e4a888b",
   "metadata": {},
   "outputs": [
    {
     "name": "stdout",
     "output_type": "stream",
     "text": [
      "       Unnamed: 0       ID Delivery_person_ID  Delivery_person_Age  \\\n",
      "11059       11059  0x8941    COIMBRES15DEL03                    28   \n",
      "35194       35194  0x92c8      MYSRES16DEL01                    27   \n",
      "35507       35507   0x483      JAPRES11DEL01                     0   \n",
      "6114         6114  0x8ea9     CHENRES02DEL02                    27   \n",
      "24227       24227  0xb213      JAPRES15DEL02                    37   \n",
      "539           539  0x28e9      HYDRES03DEL02                    31   \n",
      "25884       25884  0x9757     CHENRES03DEL02                    36   \n",
      "14572       14572  0x684c      MUMRES13DEL03                    36   \n",
      "14503       14503  0x2ea0      MYSRES09DEL02                    25   \n",
      "29564       29564  0x9539   RANCHIRES13DEL01                    37   \n",
      "21311       21311  0x29d7      JAPRES19DEL03                    39   \n",
      "20297       20297  0xb809    COIMBRES12DEL03                    27   \n",
      "22118       22118  0x4b58   RANCHIRES08DEL03                    39   \n",
      "15785       15785  0xb07e      MYSRES06DEL01                    37   \n",
      "5951         5951  0x6c64     BANGRES06DEL02                    24   \n",
      "\n",
      "       Delivery_person_Ratings  Restaurant_latitude  Restaurant_longitude  \\\n",
      "11059                      4.9            11.006686             76.951736   \n",
      "35194                      4.7            12.316967             76.603067   \n",
      "35507                      0.0           -26.902940            -75.793007   \n",
      "6114                       5.0            13.086438             80.220672   \n",
      "24227                      4.1            26.891191             75.802083   \n",
      "539                        4.0            17.422819             78.449578   \n",
      "25884                      4.4            13.091809             80.219104   \n",
      "14572                      5.0            19.178321             72.834715   \n",
      "14503                      4.9            12.323194             76.630583   \n",
      "29564                      3.9            23.374989             85.335486   \n",
      "21311                      4.8            26.913726             75.752820   \n",
      "20297                      4.8            11.000762             76.981876   \n",
      "22118                      4.5            23.353783             85.326967   \n",
      "15785                      4.9            12.323994             76.626167   \n",
      "5951                       4.9            12.979096             77.640625   \n",
      "\n",
      "       Delivery_location_latitude  Delivery_location_longitude  Order_Date  \\\n",
      "11059                   11.036686                    76.981736  17-03-2022   \n",
      "35194                   12.386967                    76.673067  23-03-2022   \n",
      "35507                   27.012940                    75.903007  04-04-2022   \n",
      "6114                    13.166438                    80.300672  25-03-2022   \n",
      "24227                   26.941191                    75.852083  28-03-2022   \n",
      "539                     17.502819                    78.529578  06-04-2022   \n",
      "25884                   13.141809                    80.269104  05-04-2022   \n",
      "14572                   19.238321                    72.894715  28-03-2022   \n",
      "14503                   12.343194                    76.650583  11-03-2022   \n",
      "29564                   23.444989                    85.405486  10-03-2022   \n",
      "21311                   26.943726                    75.782820  21-03-2022   \n",
      "20297                   11.090762                    77.071876  02-03-2022   \n",
      "22118                   23.413783                    85.386967  07-03-2022   \n",
      "15785                   12.363994                    76.666167  26-03-2022   \n",
      "5951                    13.029096                    77.690625  21-03-2022   \n",
      "\n",
      "       ... Weight_2 Weight_3 WeightA_1 WeightA_2  WeightA_3 rating_weight  \\\n",
      "11059  ...   0.8003   0.3804    0.6020    0.8533     0.5949        0.9909   \n",
      "35194  ...   0.4926   0.3041    0.7468    0.3611     0.5464        0.3223   \n",
      "35507  ...   0.1147   0.4316    0.9610    0.2756     0.3003        0.1131   \n",
      "6114   ...   0.3325   0.2954    0.3174    0.7118     0.3622        0.6788   \n",
      "24227  ...   0.7951   0.9510    0.6358    0.9906     0.6409        0.4374   \n",
      "539    ...   0.2098   0.0290    0.7617    0.1141     0.9629        0.2305   \n",
      "25884  ...   0.4019   0.8634    0.9579    0.6381     0.4290        0.2713   \n",
      "14572  ...   0.4141   0.3583    0.9483    0.0992     0.3030        0.2614   \n",
      "14503  ...   0.4823   0.5455    0.0861    0.1395     0.4002        0.2535   \n",
      "29564  ...   0.2510   0.3191    0.0864    0.3043     0.5335        0.3386   \n",
      "21311  ...   0.2596   0.3731    0.8101    0.0149     0.7081        0.2145   \n",
      "20297  ...   0.4889   0.5702    0.1506    0.3030     0.6272        0.3435   \n",
      "22118  ...   0.0490   0.5706    0.5712    0.0654     0.9113        0.9903   \n",
      "15785  ...   0.2733   0.6622    0.2542    0.9737     0.9468        0.0478   \n",
      "5951   ...   0.7213   0.4868    0.1202    0.3199     0.1105        0.1855   \n",
      "\n",
      "      order_history_weight  normal_update updated_ratings machine_bid  \n",
      "11059               0.0091       2.775515        5.000000  200.000000  \n",
      "35194               0.6777       2.414168        4.941417  199.997743  \n",
      "35507               0.8869       2.484940        0.248494   48.704909  \n",
      "6114                0.3212       1.802559        5.000000  200.000000  \n",
      "24227               0.5626       3.378271        4.437827  199.962263  \n",
      "539                 0.7695       2.914905        4.291490  199.943262  \n",
      "25884               0.7287       2.407442        4.640744  199.980908  \n",
      "14572               0.7386       2.341887        5.000000  200.000000  \n",
      "14503               0.7465       2.340513        5.000000  200.000000  \n",
      "29564               0.6614       2.702860        4.170286  199.922721  \n",
      "21311               0.7855       1.106685        4.910668  199.996448  \n",
      "20297               0.6565       1.098459        4.909846  199.996412  \n",
      "22118               0.0097       2.018981        4.701898  199.985196  \n",
      "15785               0.9522       2.129383        5.000000  200.000000  \n",
      "5951                0.8145       2.814982        5.000000  200.000000  \n",
      "\n",
      "[15 rows x 45 columns]\n"
     ]
    }
   ],
   "source": [
    "# Sampling without replacement\n",
    "sample = df.sample(n = sample_size)\n",
    "# sample = sample.sort_values(by = ['updated_ratings'])\n",
    "\n",
    "id = np.empty((sample_size, 1), dtype = int)\n",
    "for i in range(0, len(id)):\n",
    "    id[i] = i + 1\n",
    "sample['id'] = id\n",
    "# data_sorted = sorted(zip(x, y), key=lambda x: x[1])\n",
    "# sample"
   ]
  },
  {
   "cell_type": "code",
   "execution_count": 101,
   "id": "61648218",
   "metadata": {
    "scrolled": true
   },
   "outputs": [
    {
     "data": {
      "text/plain": [
       "[<matplotlib.lines.Line2D at 0x1d0fca3b250>]"
      ]
     },
     "execution_count": 101,
     "metadata": {},
     "output_type": "execute_result"
    },
    {
     "data": {
      "image/png": "[encoded data removed]",
      "text/plain": [
       "<Figure size 640x480 with 1 Axes>"
      ]
     },
     "metadata": {},
     "output_type": "display_data"
    }
   ],
   "source": [
    "# Printing Line Chart\n",
    "plt.plot(sample['id'], sample['Delivery_person_Ratings'], color = 'blue')\n",
    "plt.plot(sample['id'], sample['updated_ratings'], color = 'orange')"
   ]
  },
  {
   "cell_type": "code",
   "execution_count": 88,
   "id": "4eac621a",
   "metadata": {},
   "outputs": [],
   "source": [
    "# Calculating the sigmoid\n",
    "def sigmoid (value):\n",
    "    return 1 / (1 + np.exp(-value))"
   ]
  },
  {
   "cell_type": "code",
   "execution_count": 89,
   "id": "dc8b6622",
   "metadata": {},
   "outputs": [
    {
     "data": {
      "text/plain": [
       "array([146.21171573])"
      ]
     },
     "execution_count": 89,
     "metadata": {},
     "output_type": "execute_result"
    }
   ],
   "source": [
    "Price = 1000\n",
    "min_bid = 100\n",
    "max_bid = 200\n",
    "((max(sigmoid(updated_ratings / 5)) - 0.5) / 0.5) * 100 + 100"
   ]
  },
  {
   "cell_type": "code",
   "execution_count": 90,
   "id": "e5331bed",
   "metadata": {},
   "outputs": [
    {
     "name": "stdout",
     "output_type": "stream",
     "text": [
      "[199.98184085]\n",
      "[200.]\n",
      "[1.92049939]\n"
     ]
    }
   ],
   "source": [
    "bid = np.empty((45593, 1), dtype = float)\n",
    "for i in range(0, len(bid)):\n",
    "    x = np.tanh(updated_ratings[i])\n",
    "    x = (x - 0.5) / 0.5\n",
    "    bid[i] = x * (max_bid - min_bid) + min_bid\n",
    "#     bid[i] = sigmoid(bid[i])\n",
    "    \n",
    "print(max(bid))\n",
    "\n",
    "# bid = bid - min(bid)\n",
    "bid = bid / max(bid)\n",
    "bid = bid * max_bid\n",
    "\n",
    "print(max(bid))\n",
    "print(min(bid))\n",
    "# for i in range(0, len(bid)):\n",
    "#     bid[i] = bid[i] - min(bid)\n",
    "#     bid[i] \n",
    "\n",
    "# bid = scaler.fit_transform(bid.reshape(-1, 1)).ravel()\n",
    "# print(max(bid))\n",
    "# print(min(bid))\n",
    "# bid = sigmoid(bid)\n",
    "# print(max(bid))\n",
    "# print(min(bid))\n",
    "# bid = (bid - 0.5) / 0.5\n",
    "# print(max(bid))\n",
    "# print(min(bid))\n",
    "# bid = scaler.inverse_transform(bid.reshape(-1, 1)).ravel()\n",
    "\n",
    "# print(max(bid))\n",
    "# print(min(bid))\n",
    "\n",
    "# a = (max_bid - min_bid) / (max(bid) - min(bid))\n",
    "# b = min_bid - a * min(bid)\n",
    "\n",
    "# for i in range(0, len(bid)):\n",
    "#     bid[i] = a * bid[i] + b"
   ]
  },
  {
   "cell_type": "code",
   "execution_count": 91,
   "id": "cb4bfc0a",
   "metadata": {},
   "outputs": [],
   "source": [
    "# Calculating the sigmoid of the update obtained in rating after applying the algorithm\n",
    "percent_increase = np.empty((45593, 1), dtype = float)\n",
    "for i in range(0, len(percent_increase)):\n",
    "#     percent_increase[i] = sigmoid(updated_ratings[i] - rat[i])\n",
    "    percent_increase[i] = sigmoid(updated_ratings[i])"
   ]
  },
  {
   "cell_type": "code",
   "execution_count": 92,
   "id": "c2f4d4c5",
   "metadata": {},
   "outputs": [],
   "source": [
    "# machine_bid indicating the bid predicted by the machine1\n",
    "# Reason for 0.50. Machine predicted \n",
    "machine_bid = np.empty((45593, 1), dtype = float)\n",
    "machine_bid = bid\n",
    "c = 0\n",
    "d = 0\n",
    "# for i in range(0, len(machine_bid)):\n",
    "# #     if percent_increase[i] > 0.5:\n",
    "#     machine_bid[i] = df['initial_bid'][i] * (1 + percent_increase[i])\n",
    "#     elif percent_increase[i] == 0.5:\n",
    "#         machine_bid[i] = df['initial_bid'][i]\n",
    "#         d = d + 1\n",
    "#     else:\n",
    "#         machine_bid[i] = df['initial_bid'][i] - df['initial_bid'][i] * percent_increase[i]\n",
    "#         c = c + 1"
   ]
  },
  {
   "cell_type": "code",
   "execution_count": 93,
   "id": "470e9105",
   "metadata": {},
   "outputs": [],
   "source": [
    "df['machine_bid'] = machine_bid"
   ]
  },
  {
   "cell_type": "code",
   "execution_count": 94,
   "id": "5f3b2f0b",
   "metadata": {},
   "outputs": [],
   "source": [
    "sample_size = len(df)\n",
    "sample = df.sample(n = sample_size)\n",
    "\n",
    "# change refers to the change in the rating of the rider\n",
    "\n",
    "id = np.empty((sample_size, 1), dtype = int)\n",
    "for i in range(0, len(id)):\n",
    "    id[i] = i + 1\n",
    "sample['id'] = id\n",
    "sample['change'] = sample['updated_ratings'] - sample['Delivery_person_Ratings']\n",
    "sample = sample.sort_values(by = ['change'])\n",
    "# data_sorted = sorted(zip(x, y), key=lambda x: x[1])\n",
    "# sample"
   ]
  },
  {
   "cell_type": "code",
   "execution_count": 95,
   "id": "d3f71987",
   "metadata": {},
   "outputs": [
    {
     "data": {
      "text/plain": [
       "Text(0, 0.5, 'Machine Predicted Bid')"
      ]
     },
     "execution_count": 95,
     "metadata": {},
     "output_type": "execute_result"
    },
    {
     "data": {
      "image/png": "[encoded data removed]",
      "text/plain": [
       "<Figure size 640x480 with 1 Axes>"
      ]
     },
     "metadata": {},
     "output_type": "display_data"
    }
   ],
   "source": [
    "# x = sample('updated_ratings')\n",
    "sample = sample.sort_values(by = 'updated_ratings')\n",
    "plt.plot(sample['updated_ratings'], sample['machine_bid'], color = 'blue')\n",
    "plt.xlabel('Rating')\n",
    "plt.ylabel('Machine Predicted Bid')"
   ]
  },
  {
   "cell_type": "code",
   "execution_count": 20,
   "id": "2e28afcc",
   "metadata": {},
   "outputs": [],
   "source": [
    "import pandas as pd\n",
    "import pickle as pkl\n",
    "import numpy as np\n",
    "\n",
    "def machine_predicted_bid(filename):\n",
    "    data = pd.read_pickle(filename)\n",
    "    order = data['order_cost']\n",
    "    # data['Time_Orderd'] = pd.to_datetime(data['Time_Orderd'])\n",
    "    date_1970 = data.iat[0,10].replace(\n",
    "        day=1,\n",
    "        month=1,\n",
    "        year=1970,\n",
    "\n",
    "    )\n",
    "    # - np.datetime64('1970-01-01T00:00:00Z')\n",
    "    # data['order_pick'] = (data['order_pick']) / np.timedelta64(1, 's')\n",
    "    # data['Time_place'] = (data['Time_place']) / np.timedelta64(1, 's')\n",
    "    wait_time = data['Time_pick'] - data['order_place'] + pd.Timedelta(minutes=45)\n",
    "    \n",
    "    update = np.empty((len(data), 1), dtype = float)\n",
    "    \n",
    "    for i in range(0, len(data)):\n",
    "        update[i] = 10 * wait_time[i]\n",
    "        \n",
    "    normal_update = np.empty((len(data), 1), dtype = float)\n",
    "    \n",
    "    m = max(update)\n",
    "    n = min(update)\n",
    "    \n",
    "    for i in range(0, len(data)):\n",
    "        normal_update[i] = (m - update[i]) / (m - n)\n",
    "        normal_update[i] = normal_update[i] * 5\n",
    "                             \n",
    "    id = np.empty((len(data), 1), dtype = int)\n",
    "    \n",
    "    for i in range(0, len(id)):\n",
    "        id[i] = i + 1\n",
    "    \n",
    "    data['ID'] = id\n",
    "    data['normal_update'] = normal_update\n",
    "    \n",
    "    # Finding p factor\n",
    "    p = data['Weight_1'] * data['Order_1'] + data['Weight_2'] * data['Order_2'] + data['Weight_3'] * data['Order_3'] + data['WeightA_1'] * data['Active_1'] + data['WeightA_2'] * data['Active_2'] + data['WeightA_3'] * data['Active_3']\n",
    "    \n",
    "    # Finding factor a\n",
    "    a = data['order_history_weight'] * p + data['rating_weight'] * data['normal_update']\n",
    "    \n",
    "    for i in range(0, len(data)):\n",
    "        update[i] = update[i] + (a[i] / 100000)\n",
    "    \n",
    "    for i in range(0, len(data)):\n",
    "        normal_update[i] = (m - update[i]) / (m - n)\n",
    "        normal_update[i] = normal_update[i] * 5\n",
    "\n",
    "    data['normal_update'] = normal_update\n",
    "    \n",
    "    # Updated Ratings of the rider\n",
    "    updated_ratings = np.empty((len(data), 1), dtype = float)\n",
    "    \n",
    "    for i in range(0, len(update)):\n",
    "        updated_ratings[i] = rat[i] + (normal_update[i] / 10)\n",
    "        if updated_ratings[i] > 5:\n",
    "            updated_ratings[i] = 5\n",
    "    \n",
    "    data['updated_ratings'] = updated_ratings\n",
    "    sample_size = 15\n",
    "    \n",
    "    # Sampling without replacement\n",
    "    sample = data.sample(n = sample_size)\n",
    "    \n",
    "    id = np.empty((sample_size, 1), dtype = int)\n",
    "    \n",
    "    for i in range(0, len(id)):\n",
    "        id[i] = i + 1\n",
    "    \n",
    "    sample['id'] = id\n",
    "    \n",
    "    # Printing Line Chart\n",
    "    # plt.plot(sample['id'], sample['Delivery_person_Ratings'], color = 'blue')\n",
    "    # plt.plot(sample['id'], sample['updated_ratings'], color = 'orange')\n",
    "    \n",
    "    bid = np.empty((len(data), 1), dtype = float)\n",
    "    \n",
    "    for i in range(0, len(bid)):\n",
    "        x = sigmoid(updated_ratings[i])\n",
    "        x = (x - 0.5) / 0.5\n",
    "        bid[i] = x * (max_bid(order) - min_bid(order)) + min_bid(order)\n",
    "    \n",
    "    bid = bid / max(bid)\n",
    "    bid = bid * max_bid(order)\n",
    "    \n",
    "    df['machine_bid'] = bid\n",
    "    \n",
    "    sample_size = len(data)\n",
    "    sample = df.sample(n = sample_size)\n",
    "\n",
    "    # change refers to the change in the rating of the rider\n",
    "\n",
    "    id = np.empty((sample_size, 1), dtype = int)\n",
    "    \n",
    "    for i in range(0, len(id)):\n",
    "        id[i] = i + 1\n",
    "    \n",
    "    sample['id'] = id\n",
    "    sample['change'] = sample['updated_ratings'] - sample['Delivery_person_Ratings']\n",
    "    sample = sample.sort_values(by = ['change'])\n",
    "\n",
    "    return bid"
   ]
  },
  {
   "cell_type": "code",
   "execution_count": 21,
   "id": "06a955af",
   "metadata": {},
   "outputs": [],
   "source": [
    "# Calculating the sigmoid\n",
    "def sigmoid (value):\n",
    "    return 1 / (1 + np.exp(-value))"
   ]
  },
  {
   "cell_type": "code",
   "execution_count": null,
   "id": "e8a1ac48",
   "metadata": {},
   "outputs": [],
   "source": []
  },
  {
   "cell_type": "code",
   "execution_count": 22,
   "id": "0977fe68",
   "metadata": {},
   "outputs": [
    {
     "ename": "KeyError",
     "evalue": "'Time_pick'",
     "output_type": "error",
     "traceback": [
      "\u001b[0;31m---------------------------------------------------------------------------\u001b[0m",
      "\u001b[0;31mKeyError\u001b[0m                                  Traceback (most recent call last)",
      "File \u001b[0;32m~/.local/lib/python3.10/site-packages/pandas/core/indexes/base.py:3652\u001b[0m, in \u001b[0;36mIndex.get_loc\u001b[0;34m(self, key)\u001b[0m\n\u001b[1;32m   3651\u001b[0m \u001b[39mtry\u001b[39;00m:\n\u001b[0;32m-> 3652\u001b[0m     \u001b[39mreturn\u001b[39;00m \u001b[39mself\u001b[39;49m\u001b[39m.\u001b[39;49m_engine\u001b[39m.\u001b[39;49mget_loc(casted_key)\n\u001b[1;32m   3653\u001b[0m \u001b[39mexcept\u001b[39;00m \u001b[39mKeyError\u001b[39;00m \u001b[39mas\u001b[39;00m err:\n",
      "File \u001b[0;32m~/.local/lib/python3.10/site-packages/pandas/_libs/index.pyx:147\u001b[0m, in \u001b[0;36mpandas._libs.index.IndexEngine.get_loc\u001b[0;34m()\u001b[0m\n",
      "File \u001b[0;32m~/.local/lib/python3.10/site-packages/pandas/_libs/index.pyx:176\u001b[0m, in \u001b[0;36mpandas._libs.index.IndexEngine.get_loc\u001b[0;34m()\u001b[0m\n",
      "File \u001b[0;32mpandas/_libs/hashtable_class_helper.pxi:7080\u001b[0m, in \u001b[0;36mpandas._libs.hashtable.PyObjectHashTable.get_item\u001b[0;34m()\u001b[0m\n",
      "File \u001b[0;32mpandas/_libs/hashtable_class_helper.pxi:7088\u001b[0m, in \u001b[0;36mpandas._libs.hashtable.PyObjectHashTable.get_item\u001b[0;34m()\u001b[0m\n",
      "\u001b[0;31mKeyError\u001b[0m: 'Time_pick'",
      "\nThe above exception was the direct cause of the following exception:\n",
      "\u001b[0;31mKeyError\u001b[0m                                  Traceback (most recent call last)",
      "Cell \u001b[0;32mIn[22], line 1\u001b[0m\n\u001b[0;32m----> 1\u001b[0m machine_predicted_bid(\u001b[39m'\u001b[39;49m\u001b[39m../data/mumbai_7_days_data.pkl\u001b[39;49m\u001b[39m'\u001b[39;49m)\n",
      "Cell \u001b[0;32mIn[20], line 18\u001b[0m, in \u001b[0;36mmachine_predicted_bid\u001b[0;34m(filename)\u001b[0m\n\u001b[1;32m      9\u001b[0m date_1970 \u001b[39m=\u001b[39m data\u001b[39m.\u001b[39miat[\u001b[39m0\u001b[39m,\u001b[39m10\u001b[39m]\u001b[39m.\u001b[39mreplace(\n\u001b[1;32m     10\u001b[0m     day\u001b[39m=\u001b[39m\u001b[39m1\u001b[39m,\n\u001b[1;32m     11\u001b[0m     month\u001b[39m=\u001b[39m\u001b[39m1\u001b[39m,\n\u001b[1;32m     12\u001b[0m     year\u001b[39m=\u001b[39m\u001b[39m1970\u001b[39m,\n\u001b[1;32m     13\u001b[0m \n\u001b[1;32m     14\u001b[0m )\n\u001b[1;32m     15\u001b[0m \u001b[39m# - np.datetime64('1970-01-01T00:00:00Z')\u001b[39;00m\n\u001b[1;32m     16\u001b[0m \u001b[39m# data['order_pick'] = (data['order_pick']) / np.timedelta64(1, 's')\u001b[39;00m\n\u001b[1;32m     17\u001b[0m \u001b[39m# data['Time_place'] = (data['Time_place']) / np.timedelta64(1, 's')\u001b[39;00m\n\u001b[0;32m---> 18\u001b[0m wait_time \u001b[39m=\u001b[39m data[\u001b[39m'\u001b[39;49m\u001b[39mTime_pick\u001b[39;49m\u001b[39m'\u001b[39;49m] \u001b[39m-\u001b[39m data[\u001b[39m'\u001b[39m\u001b[39morder_place\u001b[39m\u001b[39m'\u001b[39m] \u001b[39m+\u001b[39m pd\u001b[39m.\u001b[39mTimedelta(minutes\u001b[39m=\u001b[39m\u001b[39m45\u001b[39m)\n\u001b[1;32m     20\u001b[0m update \u001b[39m=\u001b[39m np\u001b[39m.\u001b[39mempty((\u001b[39mlen\u001b[39m(data), \u001b[39m1\u001b[39m), dtype \u001b[39m=\u001b[39m \u001b[39mfloat\u001b[39m)\n\u001b[1;32m     22\u001b[0m \u001b[39mfor\u001b[39;00m i \u001b[39min\u001b[39;00m \u001b[39mrange\u001b[39m(\u001b[39m0\u001b[39m, \u001b[39mlen\u001b[39m(data)):\n",
      "File \u001b[0;32m~/.local/lib/python3.10/site-packages/pandas/core/frame.py:3761\u001b[0m, in \u001b[0;36mDataFrame.__getitem__\u001b[0;34m(self, key)\u001b[0m\n\u001b[1;32m   3759\u001b[0m \u001b[39mif\u001b[39;00m \u001b[39mself\u001b[39m\u001b[39m.\u001b[39mcolumns\u001b[39m.\u001b[39mnlevels \u001b[39m>\u001b[39m \u001b[39m1\u001b[39m:\n\u001b[1;32m   3760\u001b[0m     \u001b[39mreturn\u001b[39;00m \u001b[39mself\u001b[39m\u001b[39m.\u001b[39m_getitem_multilevel(key)\n\u001b[0;32m-> 3761\u001b[0m indexer \u001b[39m=\u001b[39m \u001b[39mself\u001b[39;49m\u001b[39m.\u001b[39;49mcolumns\u001b[39m.\u001b[39;49mget_loc(key)\n\u001b[1;32m   3762\u001b[0m \u001b[39mif\u001b[39;00m is_integer(indexer):\n\u001b[1;32m   3763\u001b[0m     indexer \u001b[39m=\u001b[39m [indexer]\n",
      "File \u001b[0;32m~/.local/lib/python3.10/site-packages/pandas/core/indexes/base.py:3654\u001b[0m, in \u001b[0;36mIndex.get_loc\u001b[0;34m(self, key)\u001b[0m\n\u001b[1;32m   3652\u001b[0m     \u001b[39mreturn\u001b[39;00m \u001b[39mself\u001b[39m\u001b[39m.\u001b[39m_engine\u001b[39m.\u001b[39mget_loc(casted_key)\n\u001b[1;32m   3653\u001b[0m \u001b[39mexcept\u001b[39;00m \u001b[39mKeyError\u001b[39;00m \u001b[39mas\u001b[39;00m err:\n\u001b[0;32m-> 3654\u001b[0m     \u001b[39mraise\u001b[39;00m \u001b[39mKeyError\u001b[39;00m(key) \u001b[39mfrom\u001b[39;00m \u001b[39merr\u001b[39;00m\n\u001b[1;32m   3655\u001b[0m \u001b[39mexcept\u001b[39;00m \u001b[39mTypeError\u001b[39;00m:\n\u001b[1;32m   3656\u001b[0m     \u001b[39m# If we have a listlike key, _check_indexing_error will raise\u001b[39;00m\n\u001b[1;32m   3657\u001b[0m     \u001b[39m#  InvalidIndexError. Otherwise we fall through and re-raise\u001b[39;00m\n\u001b[1;32m   3658\u001b[0m     \u001b[39m#  the TypeError.\u001b[39;00m\n\u001b[1;32m   3659\u001b[0m     \u001b[39mself\u001b[39m\u001b[39m.\u001b[39m_check_indexing_error(key)\n",
      "\u001b[0;31mKeyError\u001b[0m: 'Time_pick'"
     ]
    }
   ],
   "source": [
    "machine_predicted_bid('../data/mumbai_7_days_data.pkl')"
   ]
  },
  {
   "cell_type": "code",
   "execution_count": null,
   "id": "53f2bf3e",
   "metadata": {},
   "outputs": [],
   "source": []
  }
 ],
 "metadata": {
  "kernelspec": {
   "display_name": "Python 3 (ipykernel)",
   "language": "python",
   "name": "python3"
  },
  "language_info": {
   "codemirror_mode": {
    "name": "ipython",
    "version": 3
   },
   "file_extension": ".py",
   "mimetype": "text/x-python",
   "name": "python",
   "nbconvert_exporter": "python",
   "pygments_lexer": "ipython3",
   "version": "3.10.6"
  }
 },
 "nbformat": 4,
 "nbformat_minor": 5
}
