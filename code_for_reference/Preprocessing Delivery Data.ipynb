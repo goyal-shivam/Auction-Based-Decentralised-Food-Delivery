{
 "cells": [
  {
   "cell_type": "code",
   "execution_count": 224,
   "id": "d34d3802",
   "metadata": {},
   "outputs": [],
   "source": [
    "import pandas as pd\n",
    "import numpy as np\n",
    "import matplotlib.pyplot as plt"
   ]
  },
  {
   "cell_type": "code",
   "execution_count": 225,
   "id": "4082959e",
   "metadata": {},
   "outputs": [],
   "source": [
    "df = pd.read_csv('updated_dataset.csv')"
   ]
  },
  {
   "cell_type": "code",
   "execution_count": 226,
   "id": "14cf0319",
   "metadata": {
    "scrolled": true
   },
   "outputs": [
    {
     "data": {
      "text/html": [
       "<div>\n",
       "<style scoped>\n",
       "    .dataframe tbody tr th:only-of-type {\n",
       "        vertical-align: middle;\n",
       "    }\n",
       "\n",
       "    .dataframe tbody tr th {\n",
       "        vertical-align: top;\n",
       "    }\n",
       "\n",
       "    .dataframe thead th {\n",
       "        text-align: right;\n",
       "    }\n",
       "</style>\n",
       "<table border=\"1\" class=\"dataframe\">\n",
       "  <thead>\n",
       "    <tr style=\"text-align: right;\">\n",
       "      <th></th>\n",
       "      <th>Unnamed: 0</th>\n",
       "      <th>ID</th>\n",
       "      <th>Delivery_person_ID</th>\n",
       "      <th>Delivery_person_Age</th>\n",
       "      <th>Delivery_person_Ratings</th>\n",
       "      <th>Restaurant_latitude</th>\n",
       "      <th>Restaurant_longitude</th>\n",
       "      <th>Delivery_location_latitude</th>\n",
       "      <th>Delivery_location_longitude</th>\n",
       "      <th>Order_Date</th>\n",
       "      <th>...</th>\n",
       "      <th>Active_2</th>\n",
       "      <th>Active_3</th>\n",
       "      <th>Weight_1</th>\n",
       "      <th>Weight_2</th>\n",
       "      <th>Weight_3</th>\n",
       "      <th>WeightA_1</th>\n",
       "      <th>WeightA_2</th>\n",
       "      <th>WeightA_3</th>\n",
       "      <th>rating_weight</th>\n",
       "      <th>order_history_weight</th>\n",
       "    </tr>\n",
       "  </thead>\n",
       "  <tbody>\n",
       "    <tr>\n",
       "      <th>0</th>\n",
       "      <td>0</td>\n",
       "      <td>0x4607</td>\n",
       "      <td>INDORES13DEL02</td>\n",
       "      <td>37</td>\n",
       "      <td>4.9</td>\n",
       "      <td>22.745049</td>\n",
       "      <td>75.892471</td>\n",
       "      <td>22.765049</td>\n",
       "      <td>75.912471</td>\n",
       "      <td>19-03-2022</td>\n",
       "      <td>...</td>\n",
       "      <td>8.50</td>\n",
       "      <td>0.57</td>\n",
       "      <td>0.0333</td>\n",
       "      <td>0.6810</td>\n",
       "      <td>0.4246</td>\n",
       "      <td>0.2295</td>\n",
       "      <td>0.0981</td>\n",
       "      <td>0.7873</td>\n",
       "      <td>0.1174</td>\n",
       "      <td>0.8826</td>\n",
       "    </tr>\n",
       "    <tr>\n",
       "      <th>1</th>\n",
       "      <td>1</td>\n",
       "      <td>0xb379</td>\n",
       "      <td>BANGRES18DEL02</td>\n",
       "      <td>34</td>\n",
       "      <td>4.5</td>\n",
       "      <td>12.913041</td>\n",
       "      <td>77.683237</td>\n",
       "      <td>13.043041</td>\n",
       "      <td>77.813237</td>\n",
       "      <td>25-03-2022</td>\n",
       "      <td>...</td>\n",
       "      <td>7.17</td>\n",
       "      <td>3.01</td>\n",
       "      <td>0.7062</td>\n",
       "      <td>0.4970</td>\n",
       "      <td>0.1646</td>\n",
       "      <td>0.8817</td>\n",
       "      <td>0.6491</td>\n",
       "      <td>0.2915</td>\n",
       "      <td>0.1376</td>\n",
       "      <td>0.8624</td>\n",
       "    </tr>\n",
       "    <tr>\n",
       "      <th>2</th>\n",
       "      <td>2</td>\n",
       "      <td>0x5d6d</td>\n",
       "      <td>BANGRES19DEL01</td>\n",
       "      <td>23</td>\n",
       "      <td>4.4</td>\n",
       "      <td>12.914264</td>\n",
       "      <td>77.678400</td>\n",
       "      <td>12.924264</td>\n",
       "      <td>77.688400</td>\n",
       "      <td>19-03-2022</td>\n",
       "      <td>...</td>\n",
       "      <td>3.67</td>\n",
       "      <td>15.45</td>\n",
       "      <td>0.2671</td>\n",
       "      <td>0.4017</td>\n",
       "      <td>0.4489</td>\n",
       "      <td>0.0169</td>\n",
       "      <td>0.1490</td>\n",
       "      <td>0.6837</td>\n",
       "      <td>0.4918</td>\n",
       "      <td>0.5082</td>\n",
       "    </tr>\n",
       "    <tr>\n",
       "      <th>3</th>\n",
       "      <td>3</td>\n",
       "      <td>0x7a6a</td>\n",
       "      <td>COIMBRES13DEL02</td>\n",
       "      <td>38</td>\n",
       "      <td>4.7</td>\n",
       "      <td>11.003669</td>\n",
       "      <td>76.976494</td>\n",
       "      <td>11.053669</td>\n",
       "      <td>77.026494</td>\n",
       "      <td>05-04-2022</td>\n",
       "      <td>...</td>\n",
       "      <td>3.91</td>\n",
       "      <td>5.86</td>\n",
       "      <td>0.3889</td>\n",
       "      <td>0.3135</td>\n",
       "      <td>0.6792</td>\n",
       "      <td>0.3486</td>\n",
       "      <td>0.4534</td>\n",
       "      <td>0.1761</td>\n",
       "      <td>0.1172</td>\n",
       "      <td>0.8828</td>\n",
       "    </tr>\n",
       "    <tr>\n",
       "      <th>4</th>\n",
       "      <td>4</td>\n",
       "      <td>0x70a2</td>\n",
       "      <td>CHENRES12DEL01</td>\n",
       "      <td>32</td>\n",
       "      <td>4.6</td>\n",
       "      <td>12.972793</td>\n",
       "      <td>80.249982</td>\n",
       "      <td>13.012793</td>\n",
       "      <td>80.289982</td>\n",
       "      <td>26-03-2022</td>\n",
       "      <td>...</td>\n",
       "      <td>8.60</td>\n",
       "      <td>8.08</td>\n",
       "      <td>0.9009</td>\n",
       "      <td>0.7517</td>\n",
       "      <td>0.2439</td>\n",
       "      <td>0.9174</td>\n",
       "      <td>0.6373</td>\n",
       "      <td>0.5774</td>\n",
       "      <td>0.8863</td>\n",
       "      <td>0.1137</td>\n",
       "    </tr>\n",
       "  </tbody>\n",
       "</table>\n",
       "<p>5 rows × 42 columns</p>\n",
       "</div>"
      ],
      "text/plain": [
       "   Unnamed: 0       ID Delivery_person_ID  Delivery_person_Age  \\\n",
       "0           0  0x4607     INDORES13DEL02                    37   \n",
       "1           1  0xb379     BANGRES18DEL02                    34   \n",
       "2           2  0x5d6d     BANGRES19DEL01                    23   \n",
       "3           3  0x7a6a    COIMBRES13DEL02                    38   \n",
       "4           4  0x70a2     CHENRES12DEL01                    32   \n",
       "\n",
       "   Delivery_person_Ratings  Restaurant_latitude  Restaurant_longitude  \\\n",
       "0                      4.9            22.745049             75.892471   \n",
       "1                      4.5            12.913041             77.683237   \n",
       "2                      4.4            12.914264             77.678400   \n",
       "3                      4.7            11.003669             76.976494   \n",
       "4                      4.6            12.972793             80.249982   \n",
       "\n",
       "   Delivery_location_latitude  Delivery_location_longitude  Order_Date  ...  \\\n",
       "0                   22.765049                    75.912471  19-03-2022  ...   \n",
       "1                   13.043041                    77.813237  25-03-2022  ...   \n",
       "2                   12.924264                    77.688400  19-03-2022  ...   \n",
       "3                   11.053669                    77.026494  05-04-2022  ...   \n",
       "4                   13.012793                    80.289982  26-03-2022  ...   \n",
       "\n",
       "  Active_2 Active_3 Weight_1 Weight_2  Weight_3 WeightA_1 WeightA_2  \\\n",
       "0     8.50     0.57   0.0333   0.6810    0.4246    0.2295    0.0981   \n",
       "1     7.17     3.01   0.7062   0.4970    0.1646    0.8817    0.6491   \n",
       "2     3.67    15.45   0.2671   0.4017    0.4489    0.0169    0.1490   \n",
       "3     3.91     5.86   0.3889   0.3135    0.6792    0.3486    0.4534   \n",
       "4     8.60     8.08   0.9009   0.7517    0.2439    0.9174    0.6373   \n",
       "\n",
       "   WeightA_3 rating_weight order_history_weight  \n",
       "0     0.7873        0.1174               0.8826  \n",
       "1     0.2915        0.1376               0.8624  \n",
       "2     0.6837        0.4918               0.5082  \n",
       "3     0.1761        0.1172               0.8828  \n",
       "4     0.5774        0.8863               0.1137  \n",
       "\n",
       "[5 rows x 42 columns]"
      ]
     },
     "execution_count": 226,
     "metadata": {},
     "output_type": "execute_result"
    }
   ],
   "source": [
    "df.head()"
   ]
  },
  {
   "cell_type": "code",
   "execution_count": 227,
   "id": "3cc14fb5",
   "metadata": {},
   "outputs": [],
   "source": [
    "# df = df.dropna(axis = 1)"
   ]
  },
  {
   "cell_type": "code",
   "execution_count": 228,
   "id": "eeac5a5d",
   "metadata": {},
   "outputs": [
    {
     "data": {
      "text/plain": [
       "(45593, 42)"
      ]
     },
     "execution_count": 228,
     "metadata": {},
     "output_type": "execute_result"
    }
   ],
   "source": [
    "df.shape"
   ]
  },
  {
   "cell_type": "code",
   "execution_count": 229,
   "id": "d6fa04c7",
   "metadata": {},
   "outputs": [],
   "source": [
    "# df.columns"
   ]
  },
  {
   "cell_type": "code",
   "execution_count": 230,
   "id": "883a0b16",
   "metadata": {},
   "outputs": [],
   "source": [
    "# df = df.drop(['ID', 'Delivery_person_Age', 'Weatherconditions', 'Road_traffic_density', 'Vehicle_condition', \n",
    "#               'Type_of_order', 'multiple_deliveries', 'Festival', 'City'], axis = 1)"
   ]
  },
  {
   "cell_type": "code",
   "execution_count": 231,
   "id": "b1f7946c",
   "metadata": {},
   "outputs": [],
   "source": [
    "# df.columns"
   ]
  },
  {
   "cell_type": "code",
   "execution_count": 232,
   "id": "80a5c432",
   "metadata": {},
   "outputs": [],
   "source": [
    "param = df[['Time_taken(min)',\n",
    "       'Number of calls', 'Politeness', 'Freshness ', 'Temperature',\n",
    "       'Maximum wait time']].to_numpy()"
   ]
  },
  {
   "cell_type": "code",
   "execution_count": 233,
   "id": "b5b83593",
   "metadata": {},
   "outputs": [],
   "source": [
    "# param"
   ]
  },
  {
   "cell_type": "code",
   "execution_count": 234,
   "id": "e5872940",
   "metadata": {},
   "outputs": [],
   "source": [
    "# New formula \n",
    "# Update = (Maximum Wait Time - Time taken(min)) * 10 + Politeness * 5 + Freshness * 7 + Temperature * 6 + Number of Calls * 4\n",
    "# Weights = [10, 5, 7, 6, 4]\n",
    "# Number of calls would signify how many times the customer has to call a delivery person"
   ]
  },
  {
   "cell_type": "code",
   "execution_count": 235,
   "id": "679708a0",
   "metadata": {},
   "outputs": [
    {
     "data": {
      "text/plain": [
       "(45593, 1)"
      ]
     },
     "execution_count": 235,
     "metadata": {},
     "output_type": "execute_result"
    }
   ],
   "source": [
    "# update - updates which are done in ratings on a scale on 1000. Will be scaled down to 1 eventually\n",
    "update = np.empty((45593, 1), dtype = float)\n",
    "for i in range(0, len(param)):\n",
    "    update[i] = 10 * (param[i][5] - param[i][0]) + 5 * param[i][2] + 7 * param[i][3] + param[i][4] * 6 + 4 * param[i][1]\n",
    "    \n",
    "update.shape"
   ]
  },
  {
   "cell_type": "code",
   "execution_count": 236,
   "id": "ede7aad4",
   "metadata": {},
   "outputs": [],
   "source": [
    "# for i in range(0, len(update)):\n",
    "#     print(update[i], \"\\n\")"
   ]
  },
  {
   "cell_type": "code",
   "execution_count": 237,
   "id": "df6658d5",
   "metadata": {},
   "outputs": [],
   "source": [
    "# Normalizing Customer Ratings\n",
    "# Using Min-Max Normalization\n",
    "\n",
    "normal_update = np.empty((45593, 1), dtype = float)\n",
    "m = max(update)\n",
    "n = min(update)\n",
    "for i in range(0, len(param)):\n",
    "    normal_update[i] = (m - update[i]) / (m - n)\n",
    "    normal_update[i] = normal_update[i] * 5\n",
    "    \n",
    "# print(normal_update)\n",
    "# print(max(normal_update))\n",
    "# print(min(normal_update))"
   ]
  },
  {
   "cell_type": "code",
   "execution_count": 238,
   "id": "563f0570",
   "metadata": {},
   "outputs": [],
   "source": [
    "# Created in replacement of the Deliver_person_ID\n",
    "id = np.empty((45593, 1), dtype = int)\n",
    "for i in range(0, len(id)):\n",
    "    id[i] = i + 1"
   ]
  },
  {
   "cell_type": "code",
   "execution_count": 239,
   "id": "0f9d4fd6",
   "metadata": {},
   "outputs": [],
   "source": [
    "# param.shape"
   ]
  },
  {
   "cell_type": "code",
   "execution_count": 240,
   "id": "80632d9b",
   "metadata": {},
   "outputs": [],
   "source": [
    "# param[5]"
   ]
  },
  {
   "cell_type": "code",
   "execution_count": 241,
   "id": "432067c8",
   "metadata": {},
   "outputs": [],
   "source": [
    "rat = df['Delivery_person_Ratings'].to_numpy()\n",
    "rat = rat.astype(np.float64)\n",
    "# print(rat.dtype)"
   ]
  },
  {
   "cell_type": "code",
   "execution_count": 242,
   "id": "32ceee67",
   "metadata": {},
   "outputs": [],
   "source": [
    "# for i in range(0, len(updated_ratings)):\n",
    "#     print(updated_ratings[i], \"\\n\")"
   ]
  },
  {
   "cell_type": "code",
   "execution_count": 243,
   "id": "3e060398",
   "metadata": {},
   "outputs": [],
   "source": [
    "# Plotting previous ratings and updated ratings"
   ]
  },
  {
   "cell_type": "code",
   "execution_count": 244,
   "id": "b4c1adaf",
   "metadata": {},
   "outputs": [],
   "source": [
    "# plt.bar(df['id'], df['Delivery_person_Ratings'])\n",
    "# plt.bar(df['id'], df['updated_ratings'])"
   ]
  },
  {
   "cell_type": "code",
   "execution_count": 245,
   "id": "809c6440",
   "metadata": {},
   "outputs": [],
   "source": [
    "df['normal_update'] = normal_update\n",
    "# df['updated_ratings'] = updated_ratings\n",
    "# df['updated_ratings']\n",
    "# df['id'] = id\n",
    "# x = df['updated_ratings'] - df['Delivery_person_Ratings']\n",
    "# max(x)\n",
    "# min(x)"
   ]
  },
  {
   "cell_type": "code",
   "execution_count": 246,
   "id": "1ddc9bf8",
   "metadata": {},
   "outputs": [],
   "source": [
    "# Finding p factor\n",
    "p = df['Weight_1'] * df['Order_1'] + df['Weight_2'] * df['Order_2'] + df['Weight_3'] * df['Order_3'] + df['WeightA_1'] * df['Active_1'] + df['WeightA_2'] * df['Active_2'] + df['WeightA_3'] * df['Active_3']"
   ]
  },
  {
   "cell_type": "code",
   "execution_count": 247,
   "id": "2abc9a4c",
   "metadata": {},
   "outputs": [],
   "source": [
    "# Finding factor a\n",
    "\n",
    "a = df['order_history_weight'] * p + df['rating_weight'] * df['normal_update']"
   ]
  },
  {
   "cell_type": "code",
   "execution_count": 248,
   "id": "fd2e7769",
   "metadata": {},
   "outputs": [
    {
     "name": "stdout",
     "output_type": "stream",
     "text": [
      "26619.871570851163\n",
      "2.170788613\n"
     ]
    }
   ],
   "source": [
    "print(max(a))\n",
    "print(min(a))"
   ]
  },
  {
   "cell_type": "code",
   "execution_count": 249,
   "id": "2bcfc39d",
   "metadata": {},
   "outputs": [],
   "source": [
    "for i in range(0, len(param)):\n",
    "    update[i] = update[i] + (a[i] / 10000)\n",
    "    \n",
    "m = max(update)\n",
    "n = min(update)\n",
    "for i in range(0, len(param)):\n",
    "    normal_update[i] = (m - update[i]) / (m - n)\n",
    "    normal_update[i] = normal_update[i] * 5\n",
    "    \n",
    "df['normal_update'] = normal_update\n"
   ]
  },
  {
   "cell_type": "code",
   "execution_count": 250,
   "id": "b990ee90",
   "metadata": {},
   "outputs": [],
   "source": [
    "# Updated Ratings of the rider\n",
    "updated_ratings = np.empty((45593, 1), dtype = float)\n",
    "for i in range(0, len(update)):\n",
    "    updated_ratings[i] = rat[i] + (normal_update[i] / 10)\n",
    "    if updated_ratings[i] > 5:\n",
    "        updated_ratings[i] = 5\n",
    "df['updated_ratings'] = updated_ratings"
   ]
  },
  {
   "cell_type": "code",
   "execution_count": 251,
   "id": "35c3dec8",
   "metadata": {},
   "outputs": [
    {
     "data": {
      "text/html": [
       "<div>\n",
       "<style scoped>\n",
       "    .dataframe tbody tr th:only-of-type {\n",
       "        vertical-align: middle;\n",
       "    }\n",
       "\n",
       "    .dataframe tbody tr th {\n",
       "        vertical-align: top;\n",
       "    }\n",
       "\n",
       "    .dataframe thead th {\n",
       "        text-align: right;\n",
       "    }\n",
       "</style>\n",
       "<table border=\"1\" class=\"dataframe\">\n",
       "  <thead>\n",
       "    <tr style=\"text-align: right;\">\n",
       "      <th></th>\n",
       "      <th>Unnamed: 0</th>\n",
       "      <th>ID</th>\n",
       "      <th>Delivery_person_ID</th>\n",
       "      <th>Delivery_person_Age</th>\n",
       "      <th>Delivery_person_Ratings</th>\n",
       "      <th>Restaurant_latitude</th>\n",
       "      <th>Restaurant_longitude</th>\n",
       "      <th>Delivery_location_latitude</th>\n",
       "      <th>Delivery_location_longitude</th>\n",
       "      <th>Order_Date</th>\n",
       "      <th>...</th>\n",
       "      <th>Weight_1</th>\n",
       "      <th>Weight_2</th>\n",
       "      <th>Weight_3</th>\n",
       "      <th>WeightA_1</th>\n",
       "      <th>WeightA_2</th>\n",
       "      <th>WeightA_3</th>\n",
       "      <th>rating_weight</th>\n",
       "      <th>order_history_weight</th>\n",
       "      <th>normal_update</th>\n",
       "      <th>updated_ratings</th>\n",
       "    </tr>\n",
       "  </thead>\n",
       "  <tbody>\n",
       "    <tr>\n",
       "      <th>0</th>\n",
       "      <td>0</td>\n",
       "      <td>0x4607</td>\n",
       "      <td>INDORES13DEL02</td>\n",
       "      <td>37</td>\n",
       "      <td>4.9</td>\n",
       "      <td>22.745049</td>\n",
       "      <td>75.892471</td>\n",
       "      <td>22.765049</td>\n",
       "      <td>75.912471</td>\n",
       "      <td>19-03-2022</td>\n",
       "      <td>...</td>\n",
       "      <td>0.0333</td>\n",
       "      <td>0.6810</td>\n",
       "      <td>0.4246</td>\n",
       "      <td>0.2295</td>\n",
       "      <td>0.0981</td>\n",
       "      <td>0.7873</td>\n",
       "      <td>0.1174</td>\n",
       "      <td>0.8826</td>\n",
       "      <td>2.953069</td>\n",
       "      <td>5.000000</td>\n",
       "    </tr>\n",
       "    <tr>\n",
       "      <th>1</th>\n",
       "      <td>1</td>\n",
       "      <td>0xb379</td>\n",
       "      <td>BANGRES18DEL02</td>\n",
       "      <td>34</td>\n",
       "      <td>4.5</td>\n",
       "      <td>12.913041</td>\n",
       "      <td>77.683237</td>\n",
       "      <td>13.043041</td>\n",
       "      <td>77.813237</td>\n",
       "      <td>25-03-2022</td>\n",
       "      <td>...</td>\n",
       "      <td>0.7062</td>\n",
       "      <td>0.4970</td>\n",
       "      <td>0.1646</td>\n",
       "      <td>0.8817</td>\n",
       "      <td>0.6491</td>\n",
       "      <td>0.2915</td>\n",
       "      <td>0.1376</td>\n",
       "      <td>0.8624</td>\n",
       "      <td>3.060708</td>\n",
       "      <td>4.806071</td>\n",
       "    </tr>\n",
       "    <tr>\n",
       "      <th>2</th>\n",
       "      <td>2</td>\n",
       "      <td>0x5d6d</td>\n",
       "      <td>BANGRES19DEL01</td>\n",
       "      <td>23</td>\n",
       "      <td>4.4</td>\n",
       "      <td>12.914264</td>\n",
       "      <td>77.678400</td>\n",
       "      <td>12.924264</td>\n",
       "      <td>77.688400</td>\n",
       "      <td>19-03-2022</td>\n",
       "      <td>...</td>\n",
       "      <td>0.2671</td>\n",
       "      <td>0.4017</td>\n",
       "      <td>0.4489</td>\n",
       "      <td>0.0169</td>\n",
       "      <td>0.1490</td>\n",
       "      <td>0.6837</td>\n",
       "      <td>0.4918</td>\n",
       "      <td>0.5082</td>\n",
       "      <td>2.180068</td>\n",
       "      <td>4.618007</td>\n",
       "    </tr>\n",
       "    <tr>\n",
       "      <th>3</th>\n",
       "      <td>3</td>\n",
       "      <td>0x7a6a</td>\n",
       "      <td>COIMBRES13DEL02</td>\n",
       "      <td>38</td>\n",
       "      <td>4.7</td>\n",
       "      <td>11.003669</td>\n",
       "      <td>76.976494</td>\n",
       "      <td>11.053669</td>\n",
       "      <td>77.026494</td>\n",
       "      <td>05-04-2022</td>\n",
       "      <td>...</td>\n",
       "      <td>0.3889</td>\n",
       "      <td>0.3135</td>\n",
       "      <td>0.6792</td>\n",
       "      <td>0.3486</td>\n",
       "      <td>0.4534</td>\n",
       "      <td>0.1761</td>\n",
       "      <td>0.1172</td>\n",
       "      <td>0.8828</td>\n",
       "      <td>2.574529</td>\n",
       "      <td>4.957453</td>\n",
       "    </tr>\n",
       "    <tr>\n",
       "      <th>4</th>\n",
       "      <td>4</td>\n",
       "      <td>0x70a2</td>\n",
       "      <td>CHENRES12DEL01</td>\n",
       "      <td>32</td>\n",
       "      <td>4.6</td>\n",
       "      <td>12.972793</td>\n",
       "      <td>80.249982</td>\n",
       "      <td>13.012793</td>\n",
       "      <td>80.289982</td>\n",
       "      <td>26-03-2022</td>\n",
       "      <td>...</td>\n",
       "      <td>0.9009</td>\n",
       "      <td>0.7517</td>\n",
       "      <td>0.2439</td>\n",
       "      <td>0.9174</td>\n",
       "      <td>0.6373</td>\n",
       "      <td>0.5774</td>\n",
       "      <td>0.8863</td>\n",
       "      <td>0.1137</td>\n",
       "      <td>3.144037</td>\n",
       "      <td>4.914404</td>\n",
       "    </tr>\n",
       "  </tbody>\n",
       "</table>\n",
       "<p>5 rows × 44 columns</p>\n",
       "</div>"
      ],
      "text/plain": [
       "   Unnamed: 0       ID Delivery_person_ID  Delivery_person_Age  \\\n",
       "0           0  0x4607     INDORES13DEL02                    37   \n",
       "1           1  0xb379     BANGRES18DEL02                    34   \n",
       "2           2  0x5d6d     BANGRES19DEL01                    23   \n",
       "3           3  0x7a6a    COIMBRES13DEL02                    38   \n",
       "4           4  0x70a2     CHENRES12DEL01                    32   \n",
       "\n",
       "   Delivery_person_Ratings  Restaurant_latitude  Restaurant_longitude  \\\n",
       "0                      4.9            22.745049             75.892471   \n",
       "1                      4.5            12.913041             77.683237   \n",
       "2                      4.4            12.914264             77.678400   \n",
       "3                      4.7            11.003669             76.976494   \n",
       "4                      4.6            12.972793             80.249982   \n",
       "\n",
       "   Delivery_location_latitude  Delivery_location_longitude  Order_Date  ...  \\\n",
       "0                   22.765049                    75.912471  19-03-2022  ...   \n",
       "1                   13.043041                    77.813237  25-03-2022  ...   \n",
       "2                   12.924264                    77.688400  19-03-2022  ...   \n",
       "3                   11.053669                    77.026494  05-04-2022  ...   \n",
       "4                   13.012793                    80.289982  26-03-2022  ...   \n",
       "\n",
       "  Weight_1 Weight_2 Weight_3 WeightA_1  WeightA_2 WeightA_3 rating_weight  \\\n",
       "0   0.0333   0.6810   0.4246    0.2295     0.0981    0.7873        0.1174   \n",
       "1   0.7062   0.4970   0.1646    0.8817     0.6491    0.2915        0.1376   \n",
       "2   0.2671   0.4017   0.4489    0.0169     0.1490    0.6837        0.4918   \n",
       "3   0.3889   0.3135   0.6792    0.3486     0.4534    0.1761        0.1172   \n",
       "4   0.9009   0.7517   0.2439    0.9174     0.6373    0.5774        0.8863   \n",
       "\n",
       "   order_history_weight normal_update updated_ratings  \n",
       "0                0.8826      2.953069        5.000000  \n",
       "1                0.8624      3.060708        4.806071  \n",
       "2                0.5082      2.180068        4.618007  \n",
       "3                0.8828      2.574529        4.957453  \n",
       "4                0.1137      3.144037        4.914404  \n",
       "\n",
       "[5 rows x 44 columns]"
      ]
     },
     "execution_count": 251,
     "metadata": {},
     "output_type": "execute_result"
    }
   ],
   "source": [
    "df.head()"
   ]
  },
  {
   "cell_type": "code",
   "execution_count": 252,
   "id": "58f1a36c",
   "metadata": {},
   "outputs": [],
   "source": [
    "import random"
   ]
  },
  {
   "cell_type": "code",
   "execution_count": 253,
   "id": "6819d005",
   "metadata": {},
   "outputs": [],
   "source": [
    "sample_size = 15"
   ]
  },
  {
   "cell_type": "code",
   "execution_count": 254,
   "id": "c69e53d9",
   "metadata": {},
   "outputs": [],
   "source": [
    "# Sampling without replacement\n",
    "sample = df.sample(n = sample_size)\n",
    "# sample = sample.sort_values(by = ['updated_ratings'])\n",
    "\n",
    "id = np.empty((sample_size, 1), dtype = int)\n",
    "for i in range(0, len(id)):\n",
    "    id[i] = i + 1\n",
    "sample['id'] = id\n",
    "# data_sorted = sorted(zip(x, y), key=lambda x: x[1])\n",
    "# sample"
   ]
  },
  {
   "cell_type": "code",
   "execution_count": 255,
   "id": "873db8ca",
   "metadata": {},
   "outputs": [
    {
     "data": {
      "text/plain": [
       "[<matplotlib.lines.Line2D at 0x1b5c7a33c40>]"
      ]
     },
     "execution_count": 255,
     "metadata": {},
     "output_type": "execute_result"
    },
    {
     "data": {
      "image/png": "[encoded data removed]",
      "text/plain": [
       "<Figure size 640x480 with 1 Axes>"
      ]
     },
     "metadata": {},
     "output_type": "display_data"
    }
   ],
   "source": [
    "# Printing Line Chart\n",
    "plt.plot(sample['id'], sample['Delivery_person_Ratings'], color = 'blue')\n",
    "plt.plot(sample['id'], sample['updated_ratings'], color = 'orange')"
   ]
  },
  {
   "cell_type": "code",
   "execution_count": 256,
   "id": "83fa8db6",
   "metadata": {},
   "outputs": [],
   "source": [
    "# # Printing Bar Chart\n",
    "# plt.bar(sample['id'], sample['Delivery_person_Ratings'], color = 'blue')\n",
    "# plt.bar(sample['id'], sample['updated_ratings'], color = 'orange')"
   ]
  },
  {
   "cell_type": "code",
   "execution_count": 257,
   "id": "3a97bc5b",
   "metadata": {},
   "outputs": [],
   "source": [
    "# Printing Machine Predicted Bid using rating as a parameter"
   ]
  },
  {
   "cell_type": "code",
   "execution_count": 258,
   "id": "9eaecbfd",
   "metadata": {},
   "outputs": [],
   "source": [
    "from sklearn.model_selection import train_test_split\n",
    "from sklearn.metrics import accuracy_score, confusion_matrix\n",
    "from sklearn.linear_model import LogisticRegression"
   ]
  },
  {
   "cell_type": "code",
   "execution_count": 259,
   "id": "c2f40602",
   "metadata": {},
   "outputs": [],
   "source": [
    "X = pd.DataFrame(df.loc[:, ['Politeness', 'Temperature', 'Freshness ']])"
   ]
  },
  {
   "cell_type": "code",
   "execution_count": 260,
   "id": "268e9d87",
   "metadata": {},
   "outputs": [],
   "source": [
    "# X"
   ]
  },
  {
   "cell_type": "code",
   "execution_count": 261,
   "id": "e3d27ea4",
   "metadata": {},
   "outputs": [],
   "source": [
    "Y = df['Class']"
   ]
  },
  {
   "cell_type": "code",
   "execution_count": 262,
   "id": "bdceade1",
   "metadata": {
    "scrolled": true
   },
   "outputs": [],
   "source": [
    "# Y"
   ]
  },
  {
   "cell_type": "code",
   "execution_count": 263,
   "id": "a5ebd453",
   "metadata": {},
   "outputs": [],
   "source": [
    "X_train, X_test, Y_train, Y_test = train_test_split(X, Y, test_size = 0.20, random_state = 42)"
   ]
  },
  {
   "cell_type": "code",
   "execution_count": 264,
   "id": "616d8a2f",
   "metadata": {},
   "outputs": [
    {
     "data": {
      "text/html": [
       "<style>#sk-container-id-3 {color: black;background-color: white;}#sk-container-id-3 pre{padding: 0;}#sk-container-id-3 div.sk-toggleable {background-color: white;}#sk-container-id-3 label.sk-toggleable__label {cursor: pointer;display: block;width: 100%;margin-bottom: 0;padding: 0.3em;box-sizing: border-box;text-align: center;}#sk-container-id-3 label.sk-toggleable__label-arrow:before {content: \"▸\";float: left;margin-right: 0.25em;color: #696969;}#sk-container-id-3 label.sk-toggleable__label-arrow:hover:before {color: black;}#sk-container-id-3 div.sk-estimator:hover label.sk-toggleable__label-arrow:before {color: black;}#sk-container-id-3 div.sk-toggleable__content {max-height: 0;max-width: 0;overflow: hidden;text-align: left;background-color: #f0f8ff;}#sk-container-id-3 div.sk-toggleable__content pre {margin: 0.2em;color: black;border-radius: 0.25em;background-color: #f0f8ff;}#sk-container-id-3 input.sk-toggleable__control:checked~div.sk-toggleable__content {max-height: 200px;max-width: 100%;overflow: auto;}#sk-container-id-3 input.sk-toggleable__control:checked~label.sk-toggleable__label-arrow:before {content: \"▾\";}#sk-container-id-3 div.sk-estimator input.sk-toggleable__control:checked~label.sk-toggleable__label {background-color: #d4ebff;}#sk-container-id-3 div.sk-label input.sk-toggleable__control:checked~label.sk-toggleable__label {background-color: #d4ebff;}#sk-container-id-3 input.sk-hidden--visually {border: 0;clip: rect(1px 1px 1px 1px);clip: rect(1px, 1px, 1px, 1px);height: 1px;margin: -1px;overflow: hidden;padding: 0;position: absolute;width: 1px;}#sk-container-id-3 div.sk-estimator {font-family: monospace;background-color: #f0f8ff;border: 1px dotted black;border-radius: 0.25em;box-sizing: border-box;margin-bottom: 0.5em;}#sk-container-id-3 div.sk-estimator:hover {background-color: #d4ebff;}#sk-container-id-3 div.sk-parallel-item::after {content: \"\";width: 100%;border-bottom: 1px solid gray;flex-grow: 1;}#sk-container-id-3 div.sk-label:hover label.sk-toggleable__label {background-color: #d4ebff;}#sk-container-id-3 div.sk-serial::before {content: \"\";position: absolute;border-left: 1px solid gray;box-sizing: border-box;top: 0;bottom: 0;left: 50%;z-index: 0;}#sk-container-id-3 div.sk-serial {display: flex;flex-direction: column;align-items: center;background-color: white;padding-right: 0.2em;padding-left: 0.2em;position: relative;}#sk-container-id-3 div.sk-item {position: relative;z-index: 1;}#sk-container-id-3 div.sk-parallel {display: flex;align-items: stretch;justify-content: center;background-color: white;position: relative;}#sk-container-id-3 div.sk-item::before, #sk-container-id-3 div.sk-parallel-item::before {content: \"\";position: absolute;border-left: 1px solid gray;box-sizing: border-box;top: 0;bottom: 0;left: 50%;z-index: -1;}#sk-container-id-3 div.sk-parallel-item {display: flex;flex-direction: column;z-index: 1;position: relative;background-color: white;}#sk-container-id-3 div.sk-parallel-item:first-child::after {align-self: flex-end;width: 50%;}#sk-container-id-3 div.sk-parallel-item:last-child::after {align-self: flex-start;width: 50%;}#sk-container-id-3 div.sk-parallel-item:only-child::after {width: 0;}#sk-container-id-3 div.sk-dashed-wrapped {border: 1px dashed gray;margin: 0 0.4em 0.5em 0.4em;box-sizing: border-box;padding-bottom: 0.4em;background-color: white;}#sk-container-id-3 div.sk-label label {font-family: monospace;font-weight: bold;display: inline-block;line-height: 1.2em;}#sk-container-id-3 div.sk-label-container {text-align: center;}#sk-container-id-3 div.sk-container {/* jupyter's `normalize.less` sets `[hidden] { display: none; }` but bootstrap.min.css set `[hidden] { display: none !important; }` so we also need the `!important` here to be able to override the default hidden behavior on the sphinx rendered scikit-learn.org. See: https://github.com/scikit-learn/scikit-learn/issues/21755 */display: inline-block !important;position: relative;}#sk-container-id-3 div.sk-text-repr-fallback {display: none;}</style><div id=\"sk-container-id-3\" class=\"sk-top-container\"><div class=\"sk-text-repr-fallback\"><pre>LogisticRegression()</pre><b>In a Jupyter environment, please rerun this cell to show the HTML representation or trust the notebook. <br />On GitHub, the HTML representation is unable to render, please try loading this page with nbviewer.org.</b></div><div class=\"sk-container\" hidden><div class=\"sk-item\"><div class=\"sk-estimator sk-toggleable\"><input class=\"sk-toggleable__control sk-hidden--visually\" id=\"sk-estimator-id-3\" type=\"checkbox\" checked><label for=\"sk-estimator-id-3\" class=\"sk-toggleable__label sk-toggleable__label-arrow\">LogisticRegression</label><div class=\"sk-toggleable__content\"><pre>LogisticRegression()</pre></div></div></div></div></div>"
      ],
      "text/plain": [
       "LogisticRegression()"
      ]
     },
     "execution_count": 264,
     "metadata": {},
     "output_type": "execute_result"
    }
   ],
   "source": [
    "model = LogisticRegression()\n",
    "model.fit(X_train, Y_train)"
   ]
  },
  {
   "cell_type": "code",
   "execution_count": 265,
   "id": "d6195fa1",
   "metadata": {},
   "outputs": [],
   "source": [
    "y_pred = model.predict(X_test)\n",
    "# y_pred"
   ]
  },
  {
   "cell_type": "code",
   "execution_count": 266,
   "id": "d223a08b",
   "metadata": {},
   "outputs": [],
   "source": [
    "# Calculating the sigmoid\n",
    "def sigmoid (value):\n",
    "    return 1 / (1 + np.exp(-value))"
   ]
  },
  {
   "cell_type": "code",
   "execution_count": 267,
   "id": "f2f3dcb1",
   "metadata": {},
   "outputs": [],
   "source": [
    "# for i in range(0, len(percent_increase)):\n",
    "#     print(percent_increase[i])\n",
    "from sklearn.preprocessing import MinMaxScaler\n",
    "scaler = MinMaxScaler()"
   ]
  },
  {
   "cell_type": "code",
   "execution_count": 268,
   "id": "cfdf1477",
   "metadata": {},
   "outputs": [
    {
     "data": {
      "text/plain": [
       "array([146.21171573])"
      ]
     },
     "execution_count": 268,
     "metadata": {},
     "output_type": "execute_result"
    }
   ],
   "source": [
    "Price = 1000\n",
    "min_bid = 100\n",
    "max_bid = 200\n",
    "((max(sigmoid(updated_ratings / 5)) - 0.5) / 0.5) * 100 + 100"
   ]
  },
  {
   "cell_type": "code",
   "execution_count": 269,
   "id": "4b04f376",
   "metadata": {},
   "outputs": [
    {
     "name": "stdout",
     "output_type": "stream",
     "text": [
      "[198.66142982]\n",
      "[200.]\n",
      "[101.15853084]\n"
     ]
    }
   ],
   "source": [
    "bid = np.empty((45593, 1), dtype = float)\n",
    "for i in range(0, len(bid)):\n",
    "    x = sigmoid(updated_ratings[i])\n",
    "    x = (x - 0.5) / 0.5\n",
    "    bid[i] = x * (max_bid - min_bid) + min_bid\n",
    "#     bid[i] = sigmoid(bid[i])\n",
    "    \n",
    "print(max(bid))\n",
    "\n",
    "# bid = bid - min(bid)\n",
    "bid = bid / max(bid)\n",
    "bid = bid * max_bid\n",
    "\n",
    "print(max(bid))\n",
    "print(min(bid))\n",
    "# for i in range(0, len(bid)):\n",
    "#     bid[i] = bid[i] - min(bid)\n",
    "#     bid[i] \n",
    "\n",
    "# bid = scaler.fit_transform(bid.reshape(-1, 1)).ravel()\n",
    "# print(max(bid))\n",
    "# print(min(bid))\n",
    "# bid = sigmoid(bid)\n",
    "# print(max(bid))\n",
    "# print(min(bid))\n",
    "# bid = (bid - 0.5) / 0.5\n",
    "# print(max(bid))\n",
    "# print(min(bid))\n",
    "# bid = scaler.inverse_transform(bid.reshape(-1, 1)).ravel()\n",
    "\n",
    "# print(max(bid))\n",
    "# print(min(bid))\n",
    "\n",
    "# a = (max_bid - min_bid) / (max(bid) - min(bid))\n",
    "# b = min_bid - a * min(bid)\n",
    "\n",
    "# for i in range(0, len(bid)):\n",
    "#     bid[i] = a * bid[i] + b"
   ]
  },
  {
   "cell_type": "code",
   "execution_count": 270,
   "id": "96a80fa2",
   "metadata": {},
   "outputs": [],
   "source": [
    "# Calculating the sigmoid of the update obtained in rating after applying the algorithm\n",
    "percent_increase = np.empty((45593, 1), dtype = float)\n",
    "for i in range(0, len(percent_increase)):\n",
    "#     percent_increase[i] = sigmoid(updated_ratings[i] - rat[i])\n",
    "    percent_increase[i] = sigmoid(updated_ratings[i])"
   ]
  },
  {
   "cell_type": "code",
   "execution_count": 271,
   "id": "d7bd73b5",
   "metadata": {},
   "outputs": [],
   "source": [
    "# machine_bid indicating the bid predicted by the machine1\n",
    "# Reason for 0.50. Machine predicted \n",
    "machine_bid = np.empty((45593, 1), dtype = float)\n",
    "machine_bid = bid\n",
    "c = 0\n",
    "d = 0\n",
    "# for i in range(0, len(machine_bid)):\n",
    "# #     if percent_increase[i] > 0.5:\n",
    "#     machine_bid[i] = df['initial_bid'][i] * (1 + percent_increase[i])\n",
    "#     elif percent_increase[i] == 0.5:\n",
    "#         machine_bid[i] = df['initial_bid'][i]\n",
    "#         d = d + 1\n",
    "#     else:\n",
    "#         machine_bid[i] = df['initial_bid'][i] - df['initial_bid'][i] * percent_increase[i]\n",
    "#         c = c + 1"
   ]
  },
  {
   "cell_type": "code",
   "execution_count": 272,
   "id": "11a1c5a6",
   "metadata": {},
   "outputs": [
    {
     "name": "stdout",
     "output_type": "stream",
     "text": [
      "0 0\n"
     ]
    }
   ],
   "source": [
    "# for i in range(0, len(machine_bid)):\n",
    "#     print(machine_bid[i])\n",
    "print(c, d)"
   ]
  },
  {
   "cell_type": "code",
   "execution_count": 273,
   "id": "37aa022c",
   "metadata": {},
   "outputs": [],
   "source": [
    "df['machine_bid'] = machine_bid"
   ]
  },
  {
   "cell_type": "code",
   "execution_count": 274,
   "id": "ef489915",
   "metadata": {},
   "outputs": [
    {
     "data": {
      "text/plain": [
       "45593"
      ]
     },
     "execution_count": 274,
     "metadata": {},
     "output_type": "execute_result"
    }
   ],
   "source": [
    "# plt.plot(df['machine_bid'], df['updated_ratings'])\n",
    "len(df)"
   ]
  },
  {
   "cell_type": "code",
   "execution_count": 275,
   "id": "bf913f82",
   "metadata": {},
   "outputs": [],
   "source": [
    "sample_size = len(df)\n",
    "sample = df.sample(n = sample_size)\n",
    "\n",
    "# change refers to the change in the rating of the rider\n",
    "\n",
    "id = np.empty((sample_size, 1), dtype = int)\n",
    "for i in range(0, len(id)):\n",
    "    id[i] = i + 1\n",
    "sample['id'] = id\n",
    "sample['change'] = sample['updated_ratings'] - sample['Delivery_person_Ratings']\n",
    "sample = sample.sort_values(by = ['change'])\n",
    "# data_sorted = sorted(zip(x, y), key=lambda x: x[1])\n",
    "# sample"
   ]
  },
  {
   "cell_type": "code",
   "execution_count": 276,
   "id": "9b7ee092",
   "metadata": {},
   "outputs": [
    {
     "data": {
      "text/html": [
       "<div>\n",
       "<style scoped>\n",
       "    .dataframe tbody tr th:only-of-type {\n",
       "        vertical-align: middle;\n",
       "    }\n",
       "\n",
       "    .dataframe tbody tr th {\n",
       "        vertical-align: top;\n",
       "    }\n",
       "\n",
       "    .dataframe thead th {\n",
       "        text-align: right;\n",
       "    }\n",
       "</style>\n",
       "<table border=\"1\" class=\"dataframe\">\n",
       "  <thead>\n",
       "    <tr style=\"text-align: right;\">\n",
       "      <th></th>\n",
       "      <th>Unnamed: 0</th>\n",
       "      <th>ID</th>\n",
       "      <th>Delivery_person_ID</th>\n",
       "      <th>Delivery_person_Age</th>\n",
       "      <th>Delivery_person_Ratings</th>\n",
       "      <th>Restaurant_latitude</th>\n",
       "      <th>Restaurant_longitude</th>\n",
       "      <th>Delivery_location_latitude</th>\n",
       "      <th>Delivery_location_longitude</th>\n",
       "      <th>Order_Date</th>\n",
       "      <th>...</th>\n",
       "      <th>WeightA_1</th>\n",
       "      <th>WeightA_2</th>\n",
       "      <th>WeightA_3</th>\n",
       "      <th>rating_weight</th>\n",
       "      <th>order_history_weight</th>\n",
       "      <th>normal_update</th>\n",
       "      <th>updated_ratings</th>\n",
       "      <th>machine_bid</th>\n",
       "      <th>id</th>\n",
       "      <th>change</th>\n",
       "    </tr>\n",
       "  </thead>\n",
       "  <tbody>\n",
       "    <tr>\n",
       "      <th>13652</th>\n",
       "      <td>13652</td>\n",
       "      <td>0x434</td>\n",
       "      <td>RANCHIRES01DEL02</td>\n",
       "      <td>50</td>\n",
       "      <td>6.0</td>\n",
       "      <td>-23.416792</td>\n",
       "      <td>-85.316842</td>\n",
       "      <td>23.466792</td>\n",
       "      <td>85.366842</td>\n",
       "      <td>13-03-2022</td>\n",
       "      <td>...</td>\n",
       "      <td>0.8011</td>\n",
       "      <td>0.3646</td>\n",
       "      <td>0.3439</td>\n",
       "      <td>0.6721</td>\n",
       "      <td>0.3279</td>\n",
       "      <td>2.224031</td>\n",
       "      <td>5.0</td>\n",
       "      <td>200.0</td>\n",
       "      <td>10928</td>\n",
       "      <td>-1.0</td>\n",
       "    </tr>\n",
       "    <tr>\n",
       "      <th>42072</th>\n",
       "      <td>42072</td>\n",
       "      <td>0x5fc</td>\n",
       "      <td>INDORES11DEL03</td>\n",
       "      <td>50</td>\n",
       "      <td>6.0</td>\n",
       "      <td>22.751234</td>\n",
       "      <td>75.889490</td>\n",
       "      <td>22.781234</td>\n",
       "      <td>75.919490</td>\n",
       "      <td>17-03-2022</td>\n",
       "      <td>...</td>\n",
       "      <td>0.2577</td>\n",
       "      <td>0.0539</td>\n",
       "      <td>0.8827</td>\n",
       "      <td>0.2622</td>\n",
       "      <td>0.7378</td>\n",
       "      <td>2.388520</td>\n",
       "      <td>5.0</td>\n",
       "      <td>200.0</td>\n",
       "      <td>24876</td>\n",
       "      <td>-1.0</td>\n",
       "    </tr>\n",
       "    <tr>\n",
       "      <th>30579</th>\n",
       "      <td>30579</td>\n",
       "      <td>0xbf12</td>\n",
       "      <td>BHPRES20DEL03</td>\n",
       "      <td>50</td>\n",
       "      <td>6.0</td>\n",
       "      <td>23.235123</td>\n",
       "      <td>77.398886</td>\n",
       "      <td>23.325123</td>\n",
       "      <td>77.488886</td>\n",
       "      <td>16-02-2022</td>\n",
       "      <td>...</td>\n",
       "      <td>0.0194</td>\n",
       "      <td>0.5955</td>\n",
       "      <td>0.5951</td>\n",
       "      <td>0.5702</td>\n",
       "      <td>0.4298</td>\n",
       "      <td>2.846375</td>\n",
       "      <td>5.0</td>\n",
       "      <td>200.0</td>\n",
       "      <td>9515</td>\n",
       "      <td>-1.0</td>\n",
       "    </tr>\n",
       "    <tr>\n",
       "      <th>27221</th>\n",
       "      <td>27221</td>\n",
       "      <td>0x3f4</td>\n",
       "      <td>COIMBRES20DEL02</td>\n",
       "      <td>50</td>\n",
       "      <td>6.0</td>\n",
       "      <td>-10.994136</td>\n",
       "      <td>-76.963303</td>\n",
       "      <td>11.074136</td>\n",
       "      <td>77.043303</td>\n",
       "      <td>06-03-2022</td>\n",
       "      <td>...</td>\n",
       "      <td>0.5248</td>\n",
       "      <td>0.8309</td>\n",
       "      <td>0.7392</td>\n",
       "      <td>0.6666</td>\n",
       "      <td>0.3334</td>\n",
       "      <td>2.396246</td>\n",
       "      <td>5.0</td>\n",
       "      <td>200.0</td>\n",
       "      <td>34228</td>\n",
       "      <td>-1.0</td>\n",
       "    </tr>\n",
       "    <tr>\n",
       "      <th>38007</th>\n",
       "      <td>38007</td>\n",
       "      <td>0xbef2</td>\n",
       "      <td>DEHRES13DEL01</td>\n",
       "      <td>50</td>\n",
       "      <td>6.0</td>\n",
       "      <td>30.366322</td>\n",
       "      <td>78.070453</td>\n",
       "      <td>30.436322</td>\n",
       "      <td>78.140453</td>\n",
       "      <td>14-02-2022</td>\n",
       "      <td>...</td>\n",
       "      <td>0.6324</td>\n",
       "      <td>0.2229</td>\n",
       "      <td>0.7727</td>\n",
       "      <td>0.3951</td>\n",
       "      <td>0.6049</td>\n",
       "      <td>1.548927</td>\n",
       "      <td>5.0</td>\n",
       "      <td>200.0</td>\n",
       "      <td>15256</td>\n",
       "      <td>-1.0</td>\n",
       "    </tr>\n",
       "  </tbody>\n",
       "</table>\n",
       "<p>5 rows × 47 columns</p>\n",
       "</div>"
      ],
      "text/plain": [
       "       Unnamed: 0       ID Delivery_person_ID  Delivery_person_Age  \\\n",
       "13652       13652   0x434   RANCHIRES01DEL02                    50   \n",
       "42072       42072   0x5fc     INDORES11DEL03                    50   \n",
       "30579       30579  0xbf12      BHPRES20DEL03                    50   \n",
       "27221       27221   0x3f4    COIMBRES20DEL02                    50   \n",
       "38007       38007  0xbef2      DEHRES13DEL01                    50   \n",
       "\n",
       "       Delivery_person_Ratings  Restaurant_latitude  Restaurant_longitude  \\\n",
       "13652                      6.0           -23.416792            -85.316842   \n",
       "42072                      6.0            22.751234             75.889490   \n",
       "30579                      6.0            23.235123             77.398886   \n",
       "27221                      6.0           -10.994136            -76.963303   \n",
       "38007                      6.0            30.366322             78.070453   \n",
       "\n",
       "       Delivery_location_latitude  Delivery_location_longitude  Order_Date  \\\n",
       "13652                   23.466792                    85.366842  13-03-2022   \n",
       "42072                   22.781234                    75.919490  17-03-2022   \n",
       "30579                   23.325123                    77.488886  16-02-2022   \n",
       "27221                   11.074136                    77.043303  06-03-2022   \n",
       "38007                   30.436322                    78.140453  14-02-2022   \n",
       "\n",
       "       ... WeightA_1 WeightA_2 WeightA_3 rating_weight  order_history_weight  \\\n",
       "13652  ...    0.8011    0.3646    0.3439        0.6721                0.3279   \n",
       "42072  ...    0.2577    0.0539    0.8827        0.2622                0.7378   \n",
       "30579  ...    0.0194    0.5955    0.5951        0.5702                0.4298   \n",
       "27221  ...    0.5248    0.8309    0.7392        0.6666                0.3334   \n",
       "38007  ...    0.6324    0.2229    0.7727        0.3951                0.6049   \n",
       "\n",
       "      normal_update updated_ratings  machine_bid     id change  \n",
       "13652      2.224031             5.0        200.0  10928   -1.0  \n",
       "42072      2.388520             5.0        200.0  24876   -1.0  \n",
       "30579      2.846375             5.0        200.0   9515   -1.0  \n",
       "27221      2.396246             5.0        200.0  34228   -1.0  \n",
       "38007      1.548927             5.0        200.0  15256   -1.0  \n",
       "\n",
       "[5 rows x 47 columns]"
      ]
     },
     "execution_count": 276,
     "metadata": {},
     "output_type": "execute_result"
    }
   ],
   "source": [
    "sample.head()"
   ]
  },
  {
   "cell_type": "code",
   "execution_count": 277,
   "id": "69b69ddd",
   "metadata": {},
   "outputs": [],
   "source": [
    "# data = pd.DataFrame(columns = ['Rating', 'machine_bid'])\n",
    "# j05 = 0\n",
    "# j1 = 0\n",
    "# j15 = 0\n",
    "# j2 = 0\n",
    "# j25 = 0\n",
    "# j3 = 0\n",
    "# j35 = 0\n",
    "# j4 = 0\n",
    "# j45 = 0\n",
    "# j5 = 0\n",
    "# for i in range(0, sample_size):\n",
    "#     if sample.iloc[i, 34] <= 0.5 and j05 < 2:\n",
    "#         data = data.append({'Rating': sample.iloc[i, 34], 'machine_bid': sample.iloc[i, 35]}, ignore_index = True)\n",
    "#         j05 += 1\n",
    "#     elif sample.iloc[i, 34] <= 1 and sample.iloc[i, 34] > 0.5 and j1 < 2:\n",
    "#         data = data.append({'Rating': sample.iloc[i, 34], 'machine_bid': sample.iloc[i, 35]}, ignore_index = True)\n",
    "#         j1 += 1\n",
    "#     elif sample.iloc[i, 34] <= 1.5 and sample.iloc[i, 34] > 1 and  j15 < 2:\n",
    "#         j15 += 1\n",
    "#         data = data.append({'Rating': sample.iloc[i, 34], 'machine_bid': sample.iloc[i, 35]}, ignore_index = True)\n",
    "#     elif sample.iloc[i, 34] <= 2 and sample.iloc[i, 34] > 1.5 and j2 < 2:\n",
    "#         j2 += 1\n",
    "#         data = data.append({'Rating': sample.iloc[i, 34], 'machine_bid': sample.iloc[i, 35]}, ignore_index = True)\n",
    "#     elif sample.iloc[i, 34] <= 2.5 and sample.iloc[i, 34] > 2 and j25 < 2:\n",
    "#         j25 += 1\n",
    "#         data = data.append({'Rating': sample.iloc[i, 34], 'machine_bid': sample.iloc[i, 35]}, ignore_index = True)\n",
    "#     elif sample.iloc[i, 34] <= 3 and sample.iloc[i, 34] > 2.5 and j3 < 2:\n",
    "#         j3 += 1\n",
    "#         data = data.append({'Rating': sample.iloc[i, 34], 'machine_bid': sample.iloc[i, 35]}, ignore_index = True)\n",
    "#     elif sample.iloc[i, 34] <= 3.5 and sample.iloc[i, 34] > 3 and j35 < 2:\n",
    "#         j35 += 1\n",
    "#         data = data.append({'Rating': sample.iloc[i, 34], 'machine_bid': sample.iloc[i, 35]}, ignore_index = True)\n",
    "#     elif sample.iloc[i, 34] <= 4 and sample.iloc[i, 34] > 3.5 and j4 < 2:\n",
    "#         j4 += 1\n",
    "#         data = data.append({'Rating': sample.iloc[i, 34], 'machine_bid': sample.iloc[i, 35]}, ignore_index = True)\n",
    "#     elif sample.iloc[i, 34] <= 4.5 and sample.iloc[i, 34] > 4 and j45 < 2:\n",
    "#         j45 += 1\n",
    "#         data = data.append({'Rating': sample.iloc[i, 34], 'machine_bid': sample.iloc[i, 35]}, ignore_index = True)\n",
    "#     elif sample.iloc[i, 34] <= 5 and j5 < 2:\n",
    "#         j5 += 1\n",
    "#         data = data.append({'Rating': sample.iloc[i, 34], 'machine_bid': sample.iloc[i, 35]}, ignore_index = True)\n",
    "        \n",
    "# print(min(df['updated_ratings']))"
   ]
  },
  {
   "cell_type": "code",
   "execution_count": 278,
   "id": "bf4ed7e1",
   "metadata": {},
   "outputs": [],
   "source": [
    "# data = data.sort_values(by = \"Rating\")\n",
    "# data"
   ]
  },
  {
   "cell_type": "code",
   "execution_count": 279,
   "id": "bb3ce82d",
   "metadata": {},
   "outputs": [],
   "source": [
    "# plt.plot(data['Rating'], data['machine_bid'], color = 'blue')\n",
    "# plt.xlabel('Rating Change')\n",
    "# plt.ylabel('Machine Predicted Bid')"
   ]
  },
  {
   "cell_type": "code",
   "execution_count": 280,
   "id": "22ef010e",
   "metadata": {},
   "outputs": [
    {
     "data": {
      "text/plain": [
       "Text(0, 0.5, 'Machine Predicted Bid')"
      ]
     },
     "execution_count": 280,
     "metadata": {},
     "output_type": "execute_result"
    },
    {
     "data": {
      "image/png": "[encoded data removed]",
      "text/plain": [
       "<Figure size 640x480 with 1 Axes>"
      ]
     },
     "metadata": {},
     "output_type": "display_data"
    }
   ],
   "source": [
    "# x = sample('updated_ratings')\n",
    "sample = sample.sort_values(by = 'updated_ratings')\n",
    "plt.plot(sample['updated_ratings'], sample['machine_bid'], color = 'blue')\n",
    "plt.xlabel('Rating')\n",
    "plt.ylabel('Machine Predicted Bid')"
   ]
  },
  {
   "cell_type": "code",
   "execution_count": 281,
   "id": "3e2118fd",
   "metadata": {},
   "outputs": [
    {
     "data": {
      "text/plain": [
       "0.7211"
      ]
     },
     "execution_count": 281,
     "metadata": {},
     "output_type": "execute_result"
    }
   ],
   "source": [
    "sample.iloc[0, 34]"
   ]
  },
  {
   "cell_type": "code",
   "execution_count": null,
   "id": "a3a0b7cb",
   "metadata": {},
   "outputs": [],
   "source": []
  },
  {
   "cell_type": "code",
   "execution_count": null,
   "id": "2fa58eb5",
   "metadata": {},
   "outputs": [],
   "source": []
  },
  {
   "cell_type": "code",
   "execution_count": null,
   "id": "4238c05b",
   "metadata": {},
   "outputs": [],
   "source": []
  },
  {
   "cell_type": "code",
   "execution_count": null,
   "id": "98c0f968",
   "metadata": {},
   "outputs": [],
   "source": []
  },
  {
   "cell_type": "code",
   "execution_count": null,
   "id": "e2501849",
   "metadata": {},
   "outputs": [],
   "source": []
  }
 ],
 "metadata": {
  "kernelspec": {
   "display_name": "Python 3 (ipykernel)",
   "language": "python",
   "name": "python3"
  },
  "language_info": {
   "codemirror_mode": {
    "name": "ipython",
    "version": 3
   },
   "file_extension": ".py",
   "mimetype": "text/x-python",
   "name": "python",
   "nbconvert_exporter": "python",
   "pygments_lexer": "ipython3",
   "version": "3.10.9"
  }
 },
 "nbformat": 4,
 "nbformat_minor": 5
}
