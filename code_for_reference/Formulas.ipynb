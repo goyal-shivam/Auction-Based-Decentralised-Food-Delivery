{
 "cells": [
  {
   "cell_type": "code",
   "execution_count": 25,
   "id": "b0f40f30",
   "metadata": {},
   "outputs": [],
   "source": [
    "# Maximum and Minimum Bid\n",
    "def max_bid (order):\n",
    "    return order * 0.2\n",
    "\n",
    "def min_bid (order):\n",
    "    return order * 0.1"
   ]
  },
  {
   "cell_type": "code",
   "execution_count": 63,
   "id": "711e36a0",
   "metadata": {},
   "outputs": [],
   "source": [
    "# Calculating the 1st, 2nd, and 3rd bid\n",
    "# 1st bid will be twice the machine bid or the maximum, \n",
    "#     2nd should be between the machine bid and 1st bid, \n",
    "#     which will be decided by probability and 3rd bid will be around machine bid to half of it, again use probability here.\n",
    "import random\n",
    "def first_bid (machine_bid, order):\n",
    "    a = (machine_bid - min_bid(order)) * 2 + min_bid(order)\n",
    "    if a < max_bid(order):\n",
    "        return random.randint(a, max_bid(order))\n",
    "    else:\n",
    "        return max_bid(order)\n",
    "    \n",
    "def second_bid (machine_bid, order):\n",
    "    return random.randint(machine_bid, first_bid(machine_bid, order))\n",
    "\n",
    "def third_bid (machine_bid, order):\n",
    "    return random.randint((machine_bid / 1.5), machine_bid + 2)"
   ]
  },
  {
   "cell_type": "code",
   "execution_count": 64,
   "id": "23995a67",
   "metadata": {},
   "outputs": [
    {
     "data": {
      "text/plain": [
       "367"
      ]
     },
     "execution_count": 64,
     "metadata": {},
     "output_type": "execute_result"
    }
   ],
   "source": [
    "first_bid(150, 2000)"
   ]
  },
  {
   "cell_type": "code",
   "execution_count": 65,
   "id": "551fb0eb",
   "metadata": {},
   "outputs": [
    {
     "data": {
      "text/plain": [
       "161"
      ]
     },
     "execution_count": 65,
     "metadata": {},
     "output_type": "execute_result"
    }
   ],
   "source": [
    "second_bid(150, 2000)"
   ]
  },
  {
   "cell_type": "code",
   "execution_count": 66,
   "id": "a11be3da",
   "metadata": {},
   "outputs": [
    {
     "data": {
      "text/plain": [
       "105"
      ]
     },
     "execution_count": 66,
     "metadata": {},
     "output_type": "execute_result"
    }
   ],
   "source": [
    "third_bid(150, 2000)"
   ]
  },
  {
   "cell_type": "code",
   "execution_count": 70,
   "id": "53b8a549",
   "metadata": {},
   "outputs": [],
   "source": [
    "# Simulating the behaviour of restaurants\n",
    "# array_rider_bid is the array of machine predicted bids of the riders. \n",
    "# Since machine predicted bid is directly propotional to the rating of the rider, hence it is used, \n",
    "#     instead of any other parameter.\n",
    "\n",
    "def choose_riders (array_rider_bid, order):\n",
    "    if order < 500:\n",
    "        return min(array_rider_bid)\n",
    "    else:\n",
    "        return max(array_rider_bid)"
   ]
  },
  {
   "cell_type": "code",
   "execution_count": null,
   "id": "c411d231",
   "metadata": {},
   "outputs": [],
   "source": []
  }
 ],
 "metadata": {
  "kernelspec": {
   "display_name": "Python 3 (ipykernel)",
   "language": "python",
   "name": "python3"
  },
  "language_info": {
   "codemirror_mode": {
    "name": "ipython",
    "version": 3
   },
   "file_extension": ".py",
   "mimetype": "text/x-python",
   "name": "python",
   "nbconvert_exporter": "python",
   "pygments_lexer": "ipython3",
   "version": "3.10.9"
  }
 },
 "nbformat": 4,
 "nbformat_minor": 5
}
