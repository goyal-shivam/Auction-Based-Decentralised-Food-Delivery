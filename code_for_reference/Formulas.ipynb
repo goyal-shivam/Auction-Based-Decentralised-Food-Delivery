{
 "cells": [
  {
   "cell_type": "code",
   "execution_count": 2,
   "id": "9b08cfad",
   "metadata": {},
   "outputs": [],
   "source": [
    "# Maximum and Minimum Bid\n",
    "def max_bid (order):\n",
    "    return order * 0.2\n",
    "\n",
    "def min_bid (order):\n",
    "    return order * 0.1"
   ]
  },
  {
   "cell_type": "code",
   "execution_count": 5,
   "id": "82cf7752",
   "metadata": {},
   "outputs": [],
   "source": [
    "# Calculating the 1st, 2nd, and 3rd bid\n",
    "# 1st bid will be twice the machine bid or the maximum, 2nd should be between the machine bid and 1st bid, which will be decided by probability and 3rd bid will be around machine bid to half of it, again use probability here.\n",
    "import random\n",
    "def first_bid (machine_bid, order):\n",
    "    a = (machine_bid - min_bid(order)) * 2 + min_bid(order)\n",
    "    if a < max_bid(order):\n",
    "        return random.randint(a, max_bid(order))\n",
    "    else:\n",
    "        return max_bid(order)\n",
    "    \n",
    "def second_bid (machhine_bid, order):\n",
    "    return random.randint(machine_bid, first_bid(machine_bid))\n",
    "\n",
    "def third_bid (machine_bid, order):\n",
    "    return random.randint((machine_bid / 2), machine_bid)"
   ]
  },
  {
   "cell_type": "code",
   "execution_count": 7,
   "id": "7a7906e2",
   "metadata": {},
   "outputs": [
    {
     "data": {
      "text/plain": [
       "0.2"
      ]
     },
     "execution_count": 7,
     "metadata": {},
     "output_type": "execute_result"
    }
   ],
   "source": [
    "first_bid(5, 1)"
   ]
  },
  {
   "cell_type": "code",
   "execution_count": null,
   "id": "262f6861",
   "metadata": {},
   "outputs": [],
   "source": []
  }
 ],
 "metadata": {
  "kernelspec": {
   "display_name": "Python 3 (ipykernel)",
   "language": "python",
   "name": "python3"
  },
  "language_info": {
   "codemirror_mode": {
    "name": "ipython",
    "version": 3
   },
   "file_extension": ".py",
   "mimetype": "text/x-python",
   "name": "python",
   "nbconvert_exporter": "python",
   "pygments_lexer": "ipython3",
   "version": "3.10.9"
  }
 },
 "nbformat": 4,
 "nbformat_minor": 5
}
